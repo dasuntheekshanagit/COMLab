{
  "nbformat": 4,
  "nbformat_minor": 0,
  "metadata": {
    "colab": {
      "name": "COMNUMPY1.ipynb",
      "provenance": [],
      "collapsed_sections": [],
      "authorship_tag": "ABX9TyNoy9yRgGupQ7v8ddK306Bf"
    },
    "kernelspec": {
      "name": "python3",
      "display_name": "Python 3"
    },
    "language_info": {
      "name": "python"
    }
  },
  "cells": [
    {
      "cell_type": "markdown",
      "metadata": {
        "id": "jfb0UAPh11pF"
      },
      "source": [
        "# Numpy"
      ]
    },
    {
      "cell_type": "code",
      "metadata": {
        "colab": {
          "base_uri": "https://localhost:8080/"
        },
        "id": "TWE5hIGo2La5",
        "outputId": "7ffe5253-84a4-4ff1-8a4b-4d0d3c379661"
      },
      "source": [
        " \n",
        "import numpy as np\n",
        "test1 = np.array([1,2,3])\n",
        "#print(type(test1))\n",
        "print(test1.shape)\n",
        "print(test1.size)\n",
        "print(type(test1))\n",
        "print(type([]))"
      ],
      "execution_count": 2,
      "outputs": [
        {
          "output_type": "stream",
          "name": "stdout",
          "text": [
            "(3,)\n",
            "3\n",
            "<class 'numpy.ndarray'>\n",
            "<class 'list'>\n"
          ]
        }
      ]
    },
    {
      "cell_type": "code",
      "metadata": {
        "colab": {
          "base_uri": "https://localhost:8080/"
        },
        "id": "w_Djqk4m4xQH",
        "outputId": "3a630677-24bf-44ff-8ca0-9703d0c9f821"
      },
      "source": [
        "b = np.array([[1],[2],[3],[4]])\n",
        "print(b.shape,b.size)"
      ],
      "execution_count": 4,
      "outputs": [
        {
          "output_type": "stream",
          "name": "stdout",
          "text": [
            "(4, 1) 4\n"
          ]
        }
      ]
    },
    {
      "cell_type": "code",
      "metadata": {
        "colab": {
          "base_uri": "https://localhost:8080/"
        },
        "id": "JlNzv1Tm5-P0",
        "outputId": "b254ca3a-649a-49b1-a85c-9c6723077284"
      },
      "source": [
        "a = np.arange(1,11)\n",
        "print(a)"
      ],
      "execution_count": 5,
      "outputs": [
        {
          "output_type": "stream",
          "name": "stdout",
          "text": [
            "[ 1  2  3  4  5  6  7  8  9 10]\n"
          ]
        }
      ]
    },
    {
      "cell_type": "code",
      "metadata": {
        "colab": {
          "base_uri": "https://localhost:8080/"
        },
        "id": "aWOyP8zF7cVb",
        "outputId": "cfdabd47-f705-492f-e442-acffc7646c9d"
      },
      "source": [
        "c = np.linspace(1,100)\n",
        "print(c,c.size)\n",
        "d = np.linspace(1,100,100)\n",
        "print(d,d.size)"
      ],
      "execution_count": 6,
      "outputs": [
        {
          "output_type": "stream",
          "name": "stdout",
          "text": [
            "[  1.           3.02040816   5.04081633   7.06122449   9.08163265\n",
            "  11.10204082  13.12244898  15.14285714  17.16326531  19.18367347\n",
            "  21.20408163  23.2244898   25.24489796  27.26530612  29.28571429\n",
            "  31.30612245  33.32653061  35.34693878  37.36734694  39.3877551\n",
            "  41.40816327  43.42857143  45.44897959  47.46938776  49.48979592\n",
            "  51.51020408  53.53061224  55.55102041  57.57142857  59.59183673\n",
            "  61.6122449   63.63265306  65.65306122  67.67346939  69.69387755\n",
            "  71.71428571  73.73469388  75.75510204  77.7755102   79.79591837\n",
            "  81.81632653  83.83673469  85.85714286  87.87755102  89.89795918\n",
            "  91.91836735  93.93877551  95.95918367  97.97959184 100.        ] 50\n",
            "[  1.   2.   3.   4.   5.   6.   7.   8.   9.  10.  11.  12.  13.  14.\n",
            "  15.  16.  17.  18.  19.  20.  21.  22.  23.  24.  25.  26.  27.  28.\n",
            "  29.  30.  31.  32.  33.  34.  35.  36.  37.  38.  39.  40.  41.  42.\n",
            "  43.  44.  45.  46.  47.  48.  49.  50.  51.  52.  53.  54.  55.  56.\n",
            "  57.  58.  59.  60.  61.  62.  63.  64.  65.  66.  67.  68.  69.  70.\n",
            "  71.  72.  73.  74.  75.  76.  77.  78.  79.  80.  81.  82.  83.  84.\n",
            "  85.  86.  87.  88.  89.  90.  91.  92.  93.  94.  95.  96.  97.  98.\n",
            "  99. 100.] 100\n"
          ]
        }
      ]
    },
    {
      "cell_type": "code",
      "metadata": {
        "colab": {
          "base_uri": "https://localhost:8080/"
        },
        "id": "eDDCF4RjuOtQ",
        "outputId": "bda89f2f-b37e-4bdd-cebd-4441c53fc8cb"
      },
      "source": [
        "x = np.arange(1,17)\n",
        "x = np.reshape(x,(4,4)) # x = x.reshape((4,4))\n",
        "print(np.linalg.det(x))\n",
        "print(x)\n",
        "print(x[1:3,1:3])\n",
        "y= x[1:3,1:3] #[:,:-1]  Reversed index   [:,::-1] print reversed order\n",
        "y[:,:]=0\n",
        "print(y)  \n",
        "print(x)"
      ],
      "execution_count": 8,
      "outputs": [
        {
          "output_type": "stream",
          "name": "stdout",
          "text": [
            "0.0\n",
            "[[ 1  2  3  4]\n",
            " [ 5  6  7  8]\n",
            " [ 9 10 11 12]\n",
            " [13 14 15 16]]\n",
            "[[ 6  7]\n",
            " [10 11]]\n",
            "[[0 0]\n",
            " [0 0]]\n",
            "[[ 1  2  3  4]\n",
            " [ 5  0  0  8]\n",
            " [ 9  0  0 12]\n",
            " [13 14 15 16]]\n"
          ]
        }
      ]
    },
    {
      "cell_type": "code",
      "source": [
        "x = np.arange(1,21)\n",
        "print(x)\n",
        "x = x.reshape((4,5))\n",
        "print(x,\"\\n\")\n",
        "print(x[:,3:0:-1])"
      ],
      "metadata": {
        "colab": {
          "base_uri": "https://localhost:8080/"
        },
        "id": "ppOwF6l92NEJ",
        "outputId": "bed0bb40-dc18-41c8-941a-c738253ff476"
      },
      "execution_count": 7,
      "outputs": [
        {
          "output_type": "stream",
          "name": "stdout",
          "text": [
            "[ 1  2  3  4  5  6  7  8  9 10 11 12 13 14 15 16 17 18 19 20]\n",
            "[[ 1  2  3  4  5]\n",
            " [ 6  7  8  9 10]\n",
            " [11 12 13 14 15]\n",
            " [16 17 18 19 20]] \n",
            "\n",
            "[[ 4  3  2]\n",
            " [ 9  8  7]\n",
            " [14 13 12]\n",
            " [19 18 17]]\n"
          ]
        }
      ]
    },
    {
      "cell_type": "code",
      "metadata": {
        "id": "lBJTLacuOLv9",
        "colab": {
          "base_uri": "https://localhost:8080/"
        },
        "outputId": "1c80d45c-8964-4607-8ab9-715f37f28d1e"
      },
      "source": [
        "import numpy as np\n",
        "a = np.array([1,2,3,5,8])\n",
        "b = np.array([0,3,4,2,1])\n",
        "c = a + b\n",
        "c = c*a\n",
        "print (c[2])"
      ],
      "execution_count": 3,
      "outputs": [
        {
          "output_type": "stream",
          "name": "stdout",
          "text": [
            "21\n"
          ]
        }
      ]
    },
    {
      "cell_type": "code",
      "metadata": {
        "colab": {
          "base_uri": "https://localhost:8080/"
        },
        "id": "9XkIqX7wwucc",
        "outputId": "7d190dc5-cfae-439d-f1f1-538c7616c9d0"
      },
      "source": [
        " x = np.arange(1,17)\n",
        "x = np.reshape(x,(4,4))\n",
        "print(x)\n",
        "print(x[1:3,1:3])\n",
        "y= x[1:3,1:3].copy()\n",
        "y[:,:]=0\n",
        "print(y)\n",
        "print(x)"
      ],
      "execution_count": 9,
      "outputs": [
        {
          "output_type": "stream",
          "name": "stdout",
          "text": [
            "[[ 1  2  3  4]\n",
            " [ 5  6  7  8]\n",
            " [ 9 10 11 12]\n",
            " [13 14 15 16]]\n",
            "[[ 6  7]\n",
            " [10 11]]\n",
            "[[0 0]\n",
            " [0 0]]\n",
            "[[ 1  2  3  4]\n",
            " [ 5  6  7  8]\n",
            " [ 9 10 11 12]\n",
            " [13 14 15 16]]\n"
          ]
        }
      ]
    },
    {
      "cell_type": "code",
      "metadata": {
        "colab": {
          "base_uri": "https://localhost:8080/"
        },
        "id": "pM3ppqkew7RH",
        "outputId": "0b9be7de-2552-40e1-ae3e-11ad6c33bc35"
      },
      "source": [
        " \n",
        "#Fancy indexing \n",
        "a = np.linspace(0,1,11)\n",
        "print(a)\n",
        "print(a>0.5)\n",
        "print(a[a>0.5])"
      ],
      "execution_count": 10,
      "outputs": [
        {
          "output_type": "stream",
          "name": "stdout",
          "text": [
            "[0.  0.1 0.2 0.3 0.4 0.5 0.6 0.7 0.8 0.9 1. ]\n",
            "[False False False False False False  True  True  True  True  True]\n",
            "[0.6 0.7 0.8 0.9 1. ]\n"
          ]
        }
      ]
    },
    {
      "cell_type": "code",
      "metadata": {
        "colab": {
          "base_uri": "https://localhost:8080/"
        },
        "id": "zI_K88vgy6x4",
        "outputId": "0c87d5ae-c1dc-4912-8040-449553099a06"
      },
      "source": [
        "y = np.arange(1,26)\n",
        "print(y.reshape(5,5))\n",
        "print(y)\n",
        "print(np.random.rand(12).reshape(3,4))"
      ],
      "execution_count": 11,
      "outputs": [
        {
          "output_type": "stream",
          "name": "stdout",
          "text": [
            "[[ 1  2  3  4  5]\n",
            " [ 6  7  8  9 10]\n",
            " [11 12 13 14 15]\n",
            " [16 17 18 19 20]\n",
            " [21 22 23 24 25]]\n",
            "[ 1  2  3  4  5  6  7  8  9 10 11 12 13 14 15 16 17 18 19 20 21 22 23 24\n",
            " 25]\n",
            "[[0.34175451 0.47463867 0.61458757 0.3203153 ]\n",
            " [0.01536295 0.63681122 0.27835334 0.56460316]\n",
            " [0.47381442 0.31065712 0.39037833 0.11768098]]\n"
          ]
        }
      ]
    },
    {
      "cell_type": "code",
      "metadata": {
        "colab": {
          "base_uri": "https://localhost:8080/"
        },
        "id": "YWbznB5O1LRu",
        "outputId": "c63d29d3-1fcf-4911-ad09-b958d5357323"
      },
      "source": [
        " x= np.arange(1,17).reshape(4,4)\n",
        "x[0,0]=10\n",
        "print(x)\n",
        "x[3,:]=3\n",
        "print(x)\n",
        "x[:,1]=2\n",
        "print(x)"
      ],
      "execution_count": 12,
      "outputs": [
        {
          "output_type": "stream",
          "name": "stdout",
          "text": [
            "[[10  2  3  4]\n",
            " [ 5  6  7  8]\n",
            " [ 9 10 11 12]\n",
            " [13 14 15 16]]\n",
            "[[10  2  3  4]\n",
            " [ 5  6  7  8]\n",
            " [ 9 10 11 12]\n",
            " [ 3  3  3  3]]\n",
            "[[10  2  3  4]\n",
            " [ 5  2  7  8]\n",
            " [ 9  2 11 12]\n",
            " [ 3  2  3  3]]\n"
          ]
        }
      ]
    },
    {
      "cell_type": "code",
      "metadata": {
        "colab": {
          "base_uri": "https://localhost:8080/"
        },
        "id": "CC9eP71M158b",
        "outputId": "795d6649-d8e0-4aa7-82b9-18a2a17f7d3d"
      },
      "source": [
        "a = np.arange(1,26).reshape(5,5)\n",
        "b = np.arange(1,26).reshape(5,5)\n",
        "c = np.concatenate((a,b))#raw wise\n",
        "print(a)\n",
        "print(c)\n",
        "d = np.concatenate((a,b),axis=1)#colomun wuse\n",
        "print(d)"
      ],
      "execution_count": 13,
      "outputs": [
        {
          "output_type": "stream",
          "name": "stdout",
          "text": [
            "[[ 1  2  3  4  5]\n",
            " [ 6  7  8  9 10]\n",
            " [11 12 13 14 15]\n",
            " [16 17 18 19 20]\n",
            " [21 22 23 24 25]]\n",
            "[[ 1  2  3  4  5]\n",
            " [ 6  7  8  9 10]\n",
            " [11 12 13 14 15]\n",
            " [16 17 18 19 20]\n",
            " [21 22 23 24 25]\n",
            " [ 1  2  3  4  5]\n",
            " [ 6  7  8  9 10]\n",
            " [11 12 13 14 15]\n",
            " [16 17 18 19 20]\n",
            " [21 22 23 24 25]]\n",
            "[[ 1  2  3  4  5  1  2  3  4  5]\n",
            " [ 6  7  8  9 10  6  7  8  9 10]\n",
            " [11 12 13 14 15 11 12 13 14 15]\n",
            " [16 17 18 19 20 16 17 18 19 20]\n",
            " [21 22 23 24 25 21 22 23 24 25]]\n"
          ]
        }
      ]
    },
    {
      "cell_type": "code",
      "metadata": {
        "colab": {
          "base_uri": "https://localhost:8080/"
        },
        "id": "9zDOrYbe3nZw",
        "outputId": "52fa896d-b34f-4757-b69a-7cbc648d65a5"
      },
      "source": [
        "print(np.hstack((a,b))) # colom wise\n",
        "print(np.vstack((a,b))) # raw wise"
      ],
      "execution_count": 14,
      "outputs": [
        {
          "output_type": "stream",
          "name": "stdout",
          "text": [
            "[[ 1  2  3  4  5  1  2  3  4  5]\n",
            " [ 6  7  8  9 10  6  7  8  9 10]\n",
            " [11 12 13 14 15 11 12 13 14 15]\n",
            " [16 17 18 19 20 16 17 18 19 20]\n",
            " [21 22 23 24 25 21 22 23 24 25]]\n",
            "[[ 1  2  3  4  5]\n",
            " [ 6  7  8  9 10]\n",
            " [11 12 13 14 15]\n",
            " [16 17 18 19 20]\n",
            " [21 22 23 24 25]\n",
            " [ 1  2  3  4  5]\n",
            " [ 6  7  8  9 10]\n",
            " [11 12 13 14 15]\n",
            " [16 17 18 19 20]\n",
            " [21 22 23 24 25]]\n"
          ]
        }
      ]
    },
    {
      "cell_type": "code",
      "metadata": {
        "colab": {
          "base_uri": "https://localhost:8080/"
        },
        "id": "JUPeruFs5THg",
        "outputId": "050b4d30-b58b-4d98-8252-6e6b34b4bd55"
      },
      "source": [
        "# Matrix Operations \n",
        "A = np.array([[1,2],[3,4]])\n",
        "print(A)\n",
        "print(A.T)\n",
        "B = np.array([[1,2],[3,4]])\n",
        "print(A+B)\n",
        "print(np.add(A,B))\n",
        "print(np.subtract(A,B))\n",
        "print(np.multiply(A,B)) #element wise\n",
        "print(np.dot(A,B)) #Matrix wise\n",
        "print(np.divide(A,B))\n",
        "print(np.log((A,B)))\n",
        "#|1,2|      |1,2|      |7,10 |\n",
        "#|3,4|  X   |3,4|   =  |15,22|"
      ],
      "execution_count": 7,
      "outputs": [
        {
          "output_type": "stream",
          "name": "stdout",
          "text": [
            "[[1 2]\n",
            " [3 4]]\n",
            "[[1 3]\n",
            " [2 4]]\n",
            "[[2 4]\n",
            " [6 8]]\n",
            "[[2 4]\n",
            " [6 8]]\n",
            "[[0 0]\n",
            " [0 0]]\n",
            "[[ 1  4]\n",
            " [ 9 16]]\n",
            "[[ 7 10]\n",
            " [15 22]]\n",
            "[[1. 1.]\n",
            " [1. 1.]]\n",
            "[[[0.         0.69314718]\n",
            "  [1.09861229 1.38629436]]\n",
            "\n",
            " [[0.         0.69314718]\n",
            "  [1.09861229 1.38629436]]]\n"
          ]
        }
      ]
    },
    {
      "cell_type": "code",
      "metadata": {
        "colab": {
          "base_uri": "https://localhost:8080/"
        },
        "id": "ZGsJ482q7hav",
        "outputId": "61a1fafa-e0c5-43da-cd0c-e6b49ac97893"
      },
      "source": [
        " print(np.mean(A))\n",
        "print(np.mean(A,axis = 0)) #row wise\n",
        "print(np.mean(A,axis =1)) #colom wise"
      ],
      "execution_count": 16,
      "outputs": [
        {
          "output_type": "stream",
          "name": "stdout",
          "text": [
            "2.5\n",
            "[2. 3.]\n",
            "[1.5 3.5]\n"
          ]
        }
      ]
    },
    {
      "cell_type": "markdown",
      "source": [
        "$ x_1 + 2.x_2 = 1$\n",
        "\n",
        "$3.x_1 + 4.x_2 = 2$\n",
        "\n",
        "$x_1 = 0  ,  x_2 = 0.5 $\n",
        "\n"
      ],
      "metadata": {
        "id": "MyeGsFaX8har"
      }
    },
    {
      "cell_type": "code",
      "metadata": {
        "colab": {
          "base_uri": "https://localhost:8080/"
        },
        "id": "QR5qnBSR9HJE",
        "outputId": "6d159934-7cc8-4bfd-a4ca-bbdbf6e979a4"
      },
      "source": [
        "a = np.array([[1,2],[3,4]])\n",
        "b = np.array([1,2])\n",
        "print(np.linalg.solve(a,b))"
      ],
      "execution_count": 9,
      "outputs": [
        {
          "output_type": "stream",
          "name": "stdout",
          "text": [
            "[0.  0.5]\n"
          ]
        }
      ]
    },
    {
      "cell_type": "markdown",
      "metadata": {
        "id": "JK2IM5gK-oR5"
      },
      "source": [
        "$p_1 = x^3 + 2\\cdot x -7$"
      ]
    },
    {
      "cell_type": "code",
      "metadata": {
        "colab": {
          "base_uri": "https://localhost:8080/"
        },
        "id": "qGLPkqcf-NCb",
        "outputId": "a85e64cc-74b2-4135-ff34-a006d0b1cd6f"
      },
      "source": [
        "p1 = np.array([1,0,2,-7])\n",
        "print(np.roots(p1))"
      ],
      "execution_count": 18,
      "outputs": [
        {
          "output_type": "stream",
          "name": "stdout",
          "text": [
            "[-0.7844732+1.96117174j -0.7844732-1.96117174j  1.5689464+0.j        ]\n"
          ]
        }
      ]
    },
    {
      "cell_type": "markdown",
      "metadata": {
        "id": "k-qa4ITCHoEh"
      },
      "source": [
        "$ (x-1)(x-2) = x^2 -3x +2 $"
      ]
    },
    {
      "cell_type": "code",
      "metadata": {
        "colab": {
          "base_uri": "https://localhost:8080/"
        },
        "id": "sxOAGrq2_sVJ",
        "outputId": "a5fb723e-297f-4f73-919e-951548352fbe"
      },
      "source": [
        " print(np.poly([1,2,3]))# Coefficient\n",
        "root = [1,2]\n",
        "print(np.poly(root))\n",
        "f = np.poly(root)"
      ],
      "execution_count": 19,
      "outputs": [
        {
          "output_type": "stream",
          "name": "stdout",
          "text": [
            "[ 1. -6. 11. -6.]\n",
            "[ 1. -3.  2.]\n"
          ]
        }
      ]
    },
    {
      "cell_type": "markdown",
      "metadata": {
        "id": "zYkktjDJ_4Yz"
      },
      "source": [
        "$ x^2 - 3\\cdot x +2$"
      ]
    },
    {
      "cell_type": "code",
      "metadata": {
        "colab": {
          "base_uri": "https://localhost:8080/"
        },
        "id": "fCEQekYjAFn9",
        "outputId": "7b791dc6-19d8-4ba4-8051-05a097fecc84"
      },
      "source": [
        "print(np.polyval(f,0)) # x =0"
      ],
      "execution_count": 20,
      "outputs": [
        {
          "output_type": "stream",
          "name": "stdout",
          "text": [
            "2.0\n"
          ]
        }
      ]
    },
    {
      "cell_type": "code",
      "metadata": {
        "colab": {
          "base_uri": "https://localhost:8080/"
        },
        "id": "Lxdno-7C3shO",
        "outputId": "c05c741a-0f5b-4762-bf04-d197fda1da2f"
      },
      "source": [
        "print(np.roots([1,2,1]))\n",
        "print(np.poly([-1,-1]))"
      ],
      "execution_count": 21,
      "outputs": [
        {
          "output_type": "stream",
          "name": "stdout",
          "text": [
            "[-1. -1.]\n",
            "[1. 2. 1.]\n"
          ]
        }
      ]
    },
    {
      "cell_type": "code",
      "metadata": {
        "colab": {
          "base_uri": "https://localhost:8080/"
        },
        "id": "7wygs-M3Gv9x",
        "outputId": "263d83a0-7bff-49a2-bad5-295d45f9c338"
      },
      "source": [
        "print(np.roots([1,0,3,1]))\n",
        "print(np.polyval([1,0,3,1],2))"
      ],
      "execution_count": 22,
      "outputs": [
        {
          "output_type": "stream",
          "name": "stdout",
          "text": [
            "[ 0.16109268+1.75438096j  0.16109268-1.75438096j -0.32218535+0.j        ]\n",
            "15\n"
          ]
        }
      ]
    },
    {
      "cell_type": "markdown",
      "source": [
        "$ x^3 + 3.x^2 + 1 $"
      ],
      "metadata": {
        "id": "5uQBUpxTBCu6"
      }
    },
    {
      "cell_type": "code",
      "metadata": {
        "colab": {
          "base_uri": "https://localhost:8080/"
        },
        "id": "U63keR_sJxDs",
        "outputId": "2c4bb42f-5bda-4c48-a6d4-a5239e00ed1a"
      },
      "source": [
        "from numpy.polynomial.polynomial import polyval\n",
        "print(polyval(2,[1,0,3,1]))"
      ],
      "execution_count": 11,
      "outputs": [
        {
          "output_type": "stream",
          "name": "stdout",
          "text": [
            "21.0\n"
          ]
        }
      ]
    },
    {
      "cell_type": "code",
      "metadata": {
        "colab": {
          "base_uri": "https://localhost:8080/"
        },
        "id": "HKDgR9HJMtsa",
        "outputId": "165fe056-bb21-49eb-9ba7-5fc309691d2d"
      },
      "source": [
        "import numpy as np\n",
        "a = np.array([1,2,3,5,8])\n",
        "b = np.array([0,3,4,2,1])\n",
        "c = a + b\n",
        "c = c*a\n",
        "print (c[2])"
      ],
      "execution_count": 24,
      "outputs": [
        {
          "output_type": "stream",
          "name": "stdout",
          "text": [
            "21\n"
          ]
        }
      ]
    }
  ]
}