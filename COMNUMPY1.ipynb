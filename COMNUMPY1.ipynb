{
  "nbformat": 4,
  "nbformat_minor": 0,
  "metadata": {
    "colab": {
      "name": "COMNUMPY1.ipynb",
      "provenance": [],
      "collapsed_sections": [],
      "authorship_tag": "ABX9TyOQMoHXIrg2owc1ehpQPeCC",
      "include_colab_link": true
    },
    "kernelspec": {
      "name": "python3",
      "display_name": "Python 3"
    },
    "language_info": {
      "name": "python"
    }
  },
  "cells": [
    {
      "cell_type": "markdown",
      "metadata": {
        "id": "view-in-github",
        "colab_type": "text"
      },
      "source": [
        "<a href=\"https://colab.research.google.com/github/dasuntheekshanagit/COMLab/blob/master/COMNUMPY1.ipynb\" target=\"_parent\"><img src=\"https://colab.research.google.com/assets/colab-badge.svg\" alt=\"Open In Colab\"/></a>"
      ]
    },
    {
      "cell_type": "markdown",
      "metadata": {
        "id": "jfb0UAPh11pF"
      },
      "source": [
        "# Numpy"
      ]
    },
    {
      "cell_type": "code",
      "metadata": {
        "colab": {
          "base_uri": "https://localhost:8080/"
        },
        "id": "TWE5hIGo2La5",
        "outputId": "2a5b0ddb-95a9-4e52-f24d-a26a55fe426c"
      },
      "source": [
        " \n",
        "import numpy as np\n",
        "test1 = np.array([1,2,3])\n",
        "#print(type(test1))\n",
        "print(test1.shape)\n",
        "print(test1.size)"
      ],
      "execution_count": 64,
      "outputs": [
        {
          "output_type": "stream",
          "name": "stdout",
          "text": [
            "(3,)\n",
            "3\n"
          ]
        }
      ]
    },
    {
      "cell_type": "code",
      "metadata": {
        "colab": {
          "base_uri": "https://localhost:8080/"
        },
        "id": "w_Djqk4m4xQH",
        "outputId": "1695ed48-693d-4f5d-f1b1-86a522efe190"
      },
      "source": [
        "b = np.array([[1],[2],[3],[4]])\n",
        "print(b.shape,b.size)"
      ],
      "execution_count": null,
      "outputs": [
        {
          "output_type": "stream",
          "name": "stdout",
          "text": [
            "(4, 1) 4\n"
          ]
        }
      ]
    },
    {
      "cell_type": "code",
      "metadata": {
        "colab": {
          "base_uri": "https://localhost:8080/"
        },
        "id": "JlNzv1Tm5-P0",
        "outputId": "88d606db-ae6d-436a-8fdd-f8e0bf165d1b"
      },
      "source": [
        "a = np.arange(1,11)\n",
        "print(a)"
      ],
      "execution_count": null,
      "outputs": [
        {
          "output_type": "stream",
          "name": "stdout",
          "text": [
            "[ 1  2  3  4  5  6  7  8  9 10]\n"
          ]
        }
      ]
    },
    {
      "cell_type": "code",
      "metadata": {
        "colab": {
          "base_uri": "https://localhost:8080/"
        },
        "id": "aWOyP8zF7cVb",
        "outputId": "c10002ef-65d9-4d1f-e32c-4baedca356db"
      },
      "source": [
        "c = np.linspace(1,100)\n",
        "print(c,c.size)\n",
        "d = np.linspace(1,100,100)\n",
        "print(d,d.size)"
      ],
      "execution_count": null,
      "outputs": [
        {
          "output_type": "stream",
          "name": "stdout",
          "text": [
            "[  1.           3.02040816   5.04081633   7.06122449   9.08163265\n",
            "  11.10204082  13.12244898  15.14285714  17.16326531  19.18367347\n",
            "  21.20408163  23.2244898   25.24489796  27.26530612  29.28571429\n",
            "  31.30612245  33.32653061  35.34693878  37.36734694  39.3877551\n",
            "  41.40816327  43.42857143  45.44897959  47.46938776  49.48979592\n",
            "  51.51020408  53.53061224  55.55102041  57.57142857  59.59183673\n",
            "  61.6122449   63.63265306  65.65306122  67.67346939  69.69387755\n",
            "  71.71428571  73.73469388  75.75510204  77.7755102   79.79591837\n",
            "  81.81632653  83.83673469  85.85714286  87.87755102  89.89795918\n",
            "  91.91836735  93.93877551  95.95918367  97.97959184 100.        ] 50\n",
            "[  1.   2.   3.   4.   5.   6.   7.   8.   9.  10.  11.  12.  13.  14.\n",
            "  15.  16.  17.  18.  19.  20.  21.  22.  23.  24.  25.  26.  27.  28.\n",
            "  29.  30.  31.  32.  33.  34.  35.  36.  37.  38.  39.  40.  41.  42.\n",
            "  43.  44.  45.  46.  47.  48.  49.  50.  51.  52.  53.  54.  55.  56.\n",
            "  57.  58.  59.  60.  61.  62.  63.  64.  65.  66.  67.  68.  69.  70.\n",
            "  71.  72.  73.  74.  75.  76.  77.  78.  79.  80.  81.  82.  83.  84.\n",
            "  85.  86.  87.  88.  89.  90.  91.  92.  93.  94.  95.  96.  97.  98.\n",
            "  99. 100.] 100\n"
          ]
        }
      ]
    },
    {
      "cell_type": "code",
      "metadata": {
        "colab": {
          "base_uri": "https://localhost:8080/"
        },
        "id": "eDDCF4RjuOtQ",
        "outputId": "1b1c43a1-a4b9-49cf-acc8-0f51c5651137"
      },
      "source": [
        "x = np.arange(1,17)\n",
        "x = np.reshape(x,(4,4))\n",
        "print(x)\n",
        "print(x[1:3,1:3])\n",
        "y= x[1:3,1:3]\n",
        "y[:,:]=0\n",
        "print(x)"
      ],
      "execution_count": null,
      "outputs": [
        {
          "output_type": "stream",
          "name": "stdout",
          "text": [
            "[[ 1  2  3  4]\n",
            " [ 5  6  7  8]\n",
            " [ 9 10 11 12]\n",
            " [13 14 15 16]]\n",
            "[[ 6  7]\n",
            " [10 11]]\n",
            "[[ 1  2  3  4]\n",
            " [ 5  0  0  8]\n",
            " [ 9  0  0 12]\n",
            " [13 14 15 16]]\n"
          ]
        }
      ]
    },
    {
      "cell_type": "code",
      "metadata": {
        "colab": {
          "base_uri": "https://localhost:8080/"
        },
        "id": "9XkIqX7wwucc",
        "outputId": "e713c071-5b1d-41f1-e4dd-405e5feadc2c"
      },
      "source": [
        " x = np.arange(1,17)\n",
        "x = np.reshape(x,(4,4))\n",
        "print(x)\n",
        "print(x[1:3,1:3])\n",
        "y= x[1:3,1:3].copy()\n",
        "y[:,:]=0\n",
        "print(y)\n",
        "print(x)"
      ],
      "execution_count": null,
      "outputs": [
        {
          "output_type": "stream",
          "name": "stdout",
          "text": [
            "[[ 1  2  3  4]\n",
            " [ 5  6  7  8]\n",
            " [ 9 10 11 12]\n",
            " [13 14 15 16]]\n",
            "[[ 6  7]\n",
            " [10 11]]\n",
            "[[0 0]\n",
            " [0 0]]\n",
            "[[ 1  2  3  4]\n",
            " [ 5  6  7  8]\n",
            " [ 9 10 11 12]\n",
            " [13 14 15 16]]\n"
          ]
        }
      ]
    },
    {
      "cell_type": "code",
      "metadata": {
        "colab": {
          "base_uri": "https://localhost:8080/"
        },
        "id": "pM3ppqkew7RH",
        "outputId": "0e2bb57c-5c8a-4919-fdd3-0f634b9dfe00"
      },
      "source": [
        " \n",
        "#Fancy indexing \n",
        "a = np.linspace(0,1,11)\n",
        "print(a)\n",
        "print(a>0.5)\n",
        "print(a[a>0.5])"
      ],
      "execution_count": null,
      "outputs": [
        {
          "output_type": "stream",
          "name": "stdout",
          "text": [
            "[0.  0.1 0.2 0.3 0.4 0.5 0.6 0.7 0.8 0.9 1. ]\n",
            "[False False False False False False  True  True  True  True  True]\n",
            "[0.6 0.7 0.8 0.9 1. ]\n"
          ]
        }
      ]
    },
    {
      "cell_type": "code",
      "metadata": {
        "colab": {
          "base_uri": "https://localhost:8080/"
        },
        "id": "zI_K88vgy6x4",
        "outputId": "c5a51b61-4600-4229-aa4b-ca98acf68470"
      },
      "source": [
        "y = np.arange(1,26).reshape(5,5)\n",
        "print(y)\n",
        "print(np.random.rand(12).reshape(3,4))"
      ],
      "execution_count": null,
      "outputs": [
        {
          "output_type": "stream",
          "name": "stdout",
          "text": [
            "[[ 1  2  3  4  5]\n",
            " [ 6  7  8  9 10]\n",
            " [11 12 13 14 15]\n",
            " [16 17 18 19 20]\n",
            " [21 22 23 24 25]]\n",
            "[[0.68554769 0.53162416 0.0327171  0.66314664]\n",
            " [0.59866142 0.64325544 0.39926124 0.55104455]\n",
            " [0.94836872 0.25298034 0.93094283 0.12784236]]\n"
          ]
        }
      ]
    },
    {
      "cell_type": "code",
      "metadata": {
        "colab": {
          "base_uri": "https://localhost:8080/"
        },
        "id": "YWbznB5O1LRu",
        "outputId": "1e41b34f-effc-411f-e733-c83cb2b21bfb"
      },
      "source": [
        " y= np.arange(1,17).reshape(4,4)\n",
        "x[0,0]=10\n",
        "print(x)\n",
        "x[3,:]=3\n",
        "print(x)\n",
        "x[:,1]=2\n",
        "print(x)"
      ],
      "execution_count": 27,
      "outputs": [
        {
          "output_type": "stream",
          "name": "stdout",
          "text": [
            "[[10  2  3  4]\n",
            " [ 5  6  7  8]\n",
            " [ 9 10 11 12]\n",
            " [13 14 15 16]]\n",
            "[[10  2  3  4]\n",
            " [ 5  6  7  8]\n",
            " [ 9 10 11 12]\n",
            " [ 3  3  3  3]]\n",
            "[[10  2  3  4]\n",
            " [ 5  2  7  8]\n",
            " [ 9  2 11 12]\n",
            " [ 3  2  3  3]]\n"
          ]
        }
      ]
    },
    {
      "cell_type": "code",
      "metadata": {
        "colab": {
          "base_uri": "https://localhost:8080/"
        },
        "id": "CC9eP71M158b",
        "outputId": "c1f50f89-c709-4c4e-e410-f5252955d7b2"
      },
      "source": [
        "a = np.arange(1,26).reshape(5,5)\n",
        "b = np.arange(1,26).reshape(5,5)\n",
        "c = np.concatenate((a,b))#raw wise\n",
        "print(a)\n",
        "print(c)\n",
        "d = np.concatenate((a,b),axis=1)#colomun wuse\n",
        "print(d)"
      ],
      "execution_count": 33,
      "outputs": [
        {
          "output_type": "stream",
          "name": "stdout",
          "text": [
            "[[ 1  2  3  4  5]\n",
            " [ 6  7  8  9 10]\n",
            " [11 12 13 14 15]\n",
            " [16 17 18 19 20]\n",
            " [21 22 23 24 25]]\n",
            "[[ 1  2  3  4  5]\n",
            " [ 6  7  8  9 10]\n",
            " [11 12 13 14 15]\n",
            " [16 17 18 19 20]\n",
            " [21 22 23 24 25]\n",
            " [ 1  2  3  4  5]\n",
            " [ 6  7  8  9 10]\n",
            " [11 12 13 14 15]\n",
            " [16 17 18 19 20]\n",
            " [21 22 23 24 25]]\n",
            "[[ 1  2  3  4  5  1  2  3  4  5]\n",
            " [ 6  7  8  9 10  6  7  8  9 10]\n",
            " [11 12 13 14 15 11 12 13 14 15]\n",
            " [16 17 18 19 20 16 17 18 19 20]\n",
            " [21 22 23 24 25 21 22 23 24 25]]\n"
          ]
        }
      ]
    },
    {
      "cell_type": "code",
      "metadata": {
        "colab": {
          "base_uri": "https://localhost:8080/"
        },
        "id": "9zDOrYbe3nZw",
        "outputId": "feb4fe3e-d2ec-417d-ec91-2dd9d24c121e"
      },
      "source": [
        "print(np.hstack((a,b))) # colom wise\n",
        "print(np.vstack((a,b))) # raw wise"
      ],
      "execution_count": 37,
      "outputs": [
        {
          "output_type": "stream",
          "name": "stdout",
          "text": [
            "[[ 1  2  3  4  5  1  2  3  4  5]\n",
            " [ 6  7  8  9 10  6  7  8  9 10]\n",
            " [11 12 13 14 15 11 12 13 14 15]\n",
            " [16 17 18 19 20 16 17 18 19 20]\n",
            " [21 22 23 24 25 21 22 23 24 25]]\n",
            "[[ 1  2  3  4  5]\n",
            " [ 6  7  8  9 10]\n",
            " [11 12 13 14 15]\n",
            " [16 17 18 19 20]\n",
            " [21 22 23 24 25]\n",
            " [ 1  2  3  4  5]\n",
            " [ 6  7  8  9 10]\n",
            " [11 12 13 14 15]\n",
            " [16 17 18 19 20]\n",
            " [21 22 23 24 25]]\n"
          ]
        }
      ]
    },
    {
      "cell_type": "code",
      "metadata": {
        "colab": {
          "base_uri": "https://localhost:8080/"
        },
        "id": "JUPeruFs5THg",
        "outputId": "3c037679-5ca6-48f0-fc66-2cd73cb5585d"
      },
      "source": [
        "# Matrix Operations \n",
        "A = np.array([[1,2],[3,4]])\n",
        "print(A)\n",
        "print(A.T)\n",
        "B = np.array([[1,2],[3,4]])\n",
        "print(A+B)\n",
        "print(np.add(A,B))\n",
        "print(np.subtract(A,B))\n",
        "print(np.multiply(A,B)) #element wise\n",
        "print(np.dot(A,B)) #Matrix wiseprint(np.divide(A,B))\n",
        "#print(np.log(A,B))"
      ],
      "execution_count": 56,
      "outputs": [
        {
          "output_type": "stream",
          "name": "stdout",
          "text": [
            "[[1 2]\n",
            " [3 4]]\n",
            "[[1 3]\n",
            " [2 4]]\n",
            "[[2 4]\n",
            " [6 8]]\n",
            "[[2 4]\n",
            " [6 8]]\n",
            "[[0 0]\n",
            " [0 0]]\n",
            "[[ 1  4]\n",
            " [ 9 16]]\n",
            "[[ 7 10]\n",
            " [15 22]]\n"
          ]
        }
      ]
    },
    {
      "cell_type": "code",
      "metadata": {
        "colab": {
          "base_uri": "https://localhost:8080/"
        },
        "id": "ZGsJ482q7hav",
        "outputId": "d7f300ed-4705-440b-be2c-9e6d6cd21aac"
      },
      "source": [
        " print(np.mean(A))\n",
        "print(np.mean(A,axis = 0)) #row wise\n",
        "print(np.mean(A,axis =1)) #colom wise"
      ],
      "execution_count": 60,
      "outputs": [
        {
          "output_type": "stream",
          "name": "stdout",
          "text": [
            "2.5\n",
            "[2. 3.]\n",
            "[1.5 3.5]\n"
          ]
        }
      ]
    },
    {
      "cell_type": "code",
      "metadata": {
        "colab": {
          "base_uri": "https://localhost:8080/"
        },
        "id": "QR5qnBSR9HJE",
        "outputId": "1bb7908f-b502-4476-e3b6-d5f567a0583d"
      },
      "source": [
        "a = np.array([[1,2],[3,4]])\n",
        "b = np.array([[1,2],[3,4]])\n",
        "print(np.linalg.solve(a,b))"
      ],
      "execution_count": 74,
      "outputs": [
        {
          "output_type": "stream",
          "name": "stdout",
          "text": [
            "[[1.00000000e+00 0.00000000e+00]\n",
            " [8.32667268e-17 1.00000000e+00]]\n"
          ]
        }
      ]
    },
    {
      "cell_type": "markdown",
      "metadata": {
        "id": "JK2IM5gK-oR5"
      },
      "source": [
        "$p_1 = x^3 + 2\\cdot x -7$"
      ]
    },
    {
      "cell_type": "code",
      "metadata": {
        "colab": {
          "base_uri": "https://localhost:8080/"
        },
        "id": "qGLPkqcf-NCb",
        "outputId": "ca7c6544-7a41-4c8a-a87d-78ff7084c7b1"
      },
      "source": [
        "p1 = np.array([1,0,2,-7])\n",
        "print(np.roots(p1))"
      ],
      "execution_count": 79,
      "outputs": [
        {
          "output_type": "stream",
          "name": "stdout",
          "text": [
            "[-0.7844732+1.96117174j -0.7844732-1.96117174j  1.5689464+0.j        ]\n",
            "[ 1. -6. 11. -6.]\n"
          ]
        }
      ]
    },
    {
      "cell_type": "code",
      "metadata": {
        "colab": {
          "base_uri": "https://localhost:8080/"
        },
        "id": "sxOAGrq2_sVJ",
        "outputId": "5ae06708-8859-4960-e62a-f4910190716a"
      },
      "source": [
        " print(np.poly([1,2,3]))# Coefficient\n",
        "root = [1,2]\n",
        "print(np.poly(root))\n",
        "f = np.poly(root)"
      ],
      "execution_count": 81,
      "outputs": [
        {
          "output_type": "stream",
          "name": "stdout",
          "text": [
            "[ 1. -6. 11. -6.]\n",
            "[ 1. -3.  2.]\n"
          ]
        }
      ]
    },
    {
      "cell_type": "markdown",
      "metadata": {
        "id": "zYkktjDJ_4Yz"
      },
      "source": [
        "$ x^2 - 3\\cdot x +2$"
      ]
    },
    {
      "cell_type": "code",
      "metadata": {
        "colab": {
          "base_uri": "https://localhost:8080/"
        },
        "id": "fCEQekYjAFn9",
        "outputId": "68957c4f-6391-414c-c560-53d27775e18e"
      },
      "source": [
        "print(np.polyval(f,0)) # x =0"
      ],
      "execution_count": 84,
      "outputs": [
        {
          "output_type": "stream",
          "name": "stdout",
          "text": [
            "2.0\n"
          ]
        }
      ]
    }
  ]
}