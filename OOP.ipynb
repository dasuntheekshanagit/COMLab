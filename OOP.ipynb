{
  "nbformat": 4,
  "nbformat_minor": 0,
  "metadata": {
    "colab": {
      "name": "OOP.ipynb",
      "provenance": [],
      "authorship_tag": "ABX9TyNENQr7DpRHRJZm+1fsspXn"
    },
    "kernelspec": {
      "name": "python3",
      "display_name": "Python 3"
    },
    "language_info": {
      "name": "python"
    }
  },
  "cells": [
    {
      "cell_type": "code",
      "execution_count": 16,
      "metadata": {
        "colab": {
          "base_uri": "https://localhost:8080/"
        },
        "id": "qYjqcBRIcy3z",
        "outputId": "c3f3c7c2-5f7b-4841-d2ba-295cb6f632f2"
      },
      "outputs": [
        {
          "output_type": "stream",
          "name": "stdout",
          "text": [
            "ps\n",
            "ps\n",
            "<class '__main__.student'>\n",
            "ps direct acess\n",
            "<bound method student.get_name of <__main__.student object at 0x7f0247568990>>\n",
            "Help on class student in module __main__:\n",
            "\n",
            "class student(builtins.object)\n",
            " |  student(stuname)\n",
            " |  \n",
            " |  Methods defined here:\n",
            " |  \n",
            " |  __init__(self, stuname)\n",
            " |      name: studenname\n",
            " |  \n",
            " |  get_name(self)\n",
            " |  \n",
            " |  rp(self)\n",
            " |  \n",
            " |  ----------------------------------------------------------------------\n",
            " |  Data descriptors defined here:\n",
            " |  \n",
            " |  __dict__\n",
            " |      dictionary for instance variables (if defined)\n",
            " |  \n",
            " |  __weakref__\n",
            " |      list of weak references to the object (if defined)\n",
            "\n",
            "None\n"
          ]
        }
      ],
      "source": [
        "class student:\n",
        "  def __init__(self,stuname): #constructor\n",
        "    '''\n",
        "    name: studenname\n",
        "    '''\n",
        "    self.name = stuname #attribute\n",
        "  def get_name(self): #method\n",
        "    print(self.name)\n",
        "  def rp(self):\n",
        "    return self.name\n",
        "\n",
        "st1 = student('ps')\n",
        "st1.get_name()\n",
        "print(st1.rp())\n",
        "print(type(st1))\n",
        "print(st1.name,'direct acess')\n",
        "print(st1.get_name)\n",
        "print(help(student))"
      ]
    }
  ]
}